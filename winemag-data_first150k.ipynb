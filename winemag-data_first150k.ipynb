{
 "cells": [
  {
   "cell_type": "markdown",
   "metadata": {},
   "source": [
    "数据仓库地址为：https://github.com/JAF963/homework2\n",
    "\n",
    "所选数据集为：Wine Reviews——葡萄酒评论，数据集地址为：https://www.kaggle.com/zynicide/wine-reviews；\n",
    "\n",
    "数据说明： 数据winemag-data_first150k.csv中，每条记录由11个变量组成，其中5个是标称属性，分别为：country、designation、province、variety和winery ；2个是数值属性，分别为points和price；"
   ]
  },
  {
   "cell_type": "markdown",
   "metadata": {},
   "source": [
    "对数据集进行处理，转换成适合进行关联规则挖掘的形式；\n",
    "\n",
    "保存处理后的数据集的dict, 保存标称属性和数值属性离散化后的值"
   ]
  },
  {
   "cell_type": "code",
   "execution_count": 1,
   "metadata": {},
   "outputs": [
    {
     "name": "stdout",
     "output_type": "stream",
     "text": [
      "[data] read /Users/yumingfei/Documents/Document/Postgraduate/课件/数据挖掘/数据集/wine-reviews/winemag-data_first150k.csv\n"
     ]
    }
   ],
   "source": [
    "# -*- coding: utf-8 -*-\n",
    "\n",
    "import warnings\n",
    "warnings.filterwarnings(\"ignore\")\n",
    "\n",
    "import sys\n",
    "sys.path.append('../')\n",
    "import csv\n",
    "import math\n",
    "import numpy as np\n",
    "np.set_printoptions(threshold=np.inf)\n",
    "from matplotlib import pyplot as plt\n",
    "import pandas as pd\n",
    "from scipy import stats\n",
    "\n",
    "import itertools\n",
    "\n",
    "filename = '/Users/yumingfei/Documents/Document/Postgraduate/课件/数据挖掘/数据集/wine-reviews/winemag-data_first150k.csv'\n",
    "header = True\n",
    "print('[data] read', filename)\n"
   ]
  },
  {
   "cell_type": "code",
   "execution_count": 2,
   "metadata": {},
   "outputs": [],
   "source": [
    "data_content = dict()\n",
    "\n",
    "# 标称属性\n",
    "country = dict()\n",
    "designation = dict()\n",
    "province = dict()\n",
    "variety = dict()\n",
    "winery = dict()\n",
    "# 数值属性 经过离散化处理后保存\n",
    "points = dict()\n",
    "price = dict()"
   ]
  },
  {
   "cell_type": "code",
   "execution_count": 3,
   "metadata": {},
   "outputs": [
    {
     "name": "stdout",
     "output_type": "stream",
     "text": [
      "header:  ['', 'country', 'description', 'designation', 'points', 'price', 'province', 'region_1', 'region_2', 'variety', 'winery']\n",
      "94919\n"
     ]
    }
   ],
   "source": [
    "# 读取文件并进行响应处理\n",
    "with open(filename, 'r') as fin:\n",
    "    reader = csv.reader(fin)\n",
    "    rownum = 0\n",
    "    cnt = 0\n",
    "\n",
    "    # 每一行数据\n",
    "    for line in reader:\n",
    "        if header and rownum == 0:\n",
    "            header = line\n",
    "            print('header: ', header)\n",
    "        else:\n",
    "            # 标称属性\n",
    "            c = line[1]\n",
    "            d = line[3]\n",
    "            p = line[6]\n",
    "            v = line[9]\n",
    "            w = line[10]\n",
    "            # 数值属性\n",
    "            po = line[4]  # 80-100\n",
    "            pr = line[5]  # 4-76-2300\n",
    "\n",
    "            # 当所有数据均完整，则保存数据\n",
    "            if c and d and p and v and w and po and pr:\n",
    "                if c in country.keys():\n",
    "                    country[c] += 1\n",
    "                else:\n",
    "                    country[c] = 1\n",
    "\n",
    "                if d in designation.keys():\n",
    "                    designation[d] += 1\n",
    "                else:\n",
    "                    designation[d] = 1\n",
    "\n",
    "                if p in province.keys():\n",
    "                    province[p] += 1\n",
    "                else:\n",
    "                    province[p] = 1\n",
    "\n",
    "                if v in variety.keys():\n",
    "                    variety[v] += 1\n",
    "                else:\n",
    "                    variety[v] = 1\n",
    "\n",
    "                if w in winery.keys():\n",
    "                    winery[w] += 1\n",
    "                else:\n",
    "                    winery[w] = 1\n",
    "\n",
    "                m = (round(float(po)) - 80) // 6 + 1\n",
    "                if m in points.keys():\n",
    "                    points[m] += 1\n",
    "                else:\n",
    "                    points[m] = 1\n",
    "\n",
    "                n = (round(float(pr)) - 4) // 19 + 1\n",
    "                if round(float(pr)) > 76:\n",
    "                    n = 5\n",
    "                if n in price.keys():\n",
    "                    price[n] += 1\n",
    "                else:\n",
    "                    price[n] = 1\n",
    "\n",
    "                m = 'points_' + str(m)\n",
    "                n = 'price_' + str(n)\n",
    "                data_content[cnt] = [c, d, p, v, w, m, n]\n",
    "                cnt += 1\n",
    "\n",
    "\n",
    "\n",
    "        rownum += 1\n",
    "        # if rownum == 5:\n",
    "        #     break\n",
    "\n",
    "# 数据项总数目\n",
    "total = len(data_content)\n",
    "print(total)"
   ]
  },
  {
   "cell_type": "code",
   "execution_count": null,
   "metadata": {},
   "outputs": [],
   "source": []
  },
  {
   "cell_type": "markdown",
   "metadata": {},
   "source": [
    "找出频繁模式，利用Apriori算法"
   ]
  },
  {
   "cell_type": "code",
   "execution_count": 4,
   "metadata": {},
   "outputs": [],
   "source": [
    "# 定义Apriori类\n",
    "class Apriori:\n",
    "    def __init__(self, min_sup=0.2, dataDic={}):\n",
    "        # 事务数据库data\n",
    "        self.data = dataDic\n",
    "\n",
    "        # 获取事务的数量\n",
    "        self.size = len(dataDic)\n",
    "\n",
    "        # 最小支持度阈值\n",
    "        self.min_sup = min_sup\n",
    "        self.min_sup_val = min_sup * self.size\n",
    "\n",
    "    # 找出频繁1项集的集合L1\n",
    "    def find_frequent_1_itemsets(self):\n",
    "        # 这里的字典格式设置为: {itemset1:freq1,itemsets2:freq2}\n",
    "        FreqDic = {}\n",
    "\n",
    "        # 保存frequent-1\n",
    "        L1_item  = dict()\n",
    "\n",
    "        for event in self.data:\n",
    "            for item in self.data[event]:\n",
    "                if item in FreqDic:\n",
    "                    FreqDic[item] += 1\n",
    "                else:\n",
    "                    FreqDic[item] = 1\n",
    "        L1 = []\n",
    "        for itemset in FreqDic:\n",
    "            if FreqDic[itemset] >= self.min_sup_val: # itemset >= self.min_sup_val\n",
    "                L1.append([itemset])  # L1.append([itemset])\n",
    "                L1_item[itemset] = FreqDic[itemset]\n",
    "\n",
    "        return L1, L1_item\n",
    "\n",
    "    # 实现连接和剪枝\n",
    "    def apriori_gen(self, L_last):\n",
    "        k = len(L_last[0]) + 1\n",
    "        Ck = []\n",
    "        for itemset1 in L_last:\n",
    "            for itemset2 in L_last:\n",
    "                # 连接步：产生候选\n",
    "                flag = 0\n",
    "                for i in range(k - 2):\n",
    "                    if itemset1[i] != itemset2[i]:\n",
    "                        flag = 1\n",
    "                        break;\n",
    "                if flag == 1:\n",
    "                    continue\n",
    "                # print(\"-----\", itemset1[k - 2], itemset2[k - 2])\n",
    "                if itemset1[k - 2] < itemset2[k - 2]:\n",
    "                    c = itemset1 + [itemset2[k - 2]]\n",
    "                else:\n",
    "                    continue\n",
    "\n",
    "                # 剪枝步：删除非频繁的候选\n",
    "                if self.has_infrequent_subset(c, L_last, k):\n",
    "                    continue\n",
    "                else:\n",
    "                    Ck.append(c)\n",
    "        return Ck\n",
    "\n",
    "    # 使用先验知识\n",
    "    def has_infrequent_subset(self, c, L_last, k):\n",
    "        # 返回列表中元组的项\n",
    "        subsets = list(itertools.combinations(c, k - 1))\n",
    "        for each in subsets:\n",
    "            # 将元组转换成列表\n",
    "            each = list(each)\n",
    "            if each not in L_last:\n",
    "                return True\n",
    "        return False\n",
    "\n",
    "    # 运行Apriori算法\n",
    "    def run(self):\n",
    "        L_last, _ = self.find_frequent_1_itemsets()\n",
    "        L = L_last\n",
    "        i = 0\n",
    "        j = 2\n",
    "        # 保存frequent-2\n",
    "        L2_item = dict()\n",
    "\n",
    "        while L_last != []:\n",
    "            Ck = self.apriori_gen(L_last)\n",
    "            FreqDic = {}\n",
    "            for event in self.data:\n",
    "                # 获取所有支持的子集\n",
    "                for c in Ck:\n",
    "                    # 判断是否是子集\n",
    "                    if set(c) <= set(self.data[event]):\n",
    "                        if tuple(c) in FreqDic:\n",
    "                            FreqDic[tuple(c)] += 1\n",
    "                        else:\n",
    "                            FreqDic[tuple(c)] = 1\n",
    "\n",
    "            Lk = []\n",
    "            num = []\n",
    "            Lo = []\n",
    "            for c in FreqDic:\n",
    "                if FreqDic[c] > self.min_sup_val:\n",
    "                    Lk.append(list(c))\n",
    "                    num.append(FreqDic[c])\n",
    "\n",
    "            L_last = Lk\n",
    "            L += Lk\n",
    "\n",
    "            if len(Lk) != 0:\n",
    "                # print(\"[*] 频繁%d项集L%d：\" % (j, j))\n",
    "                for i in range(0, len(Lk)):\n",
    "                    # print(Lk[i], ':', num[i])\n",
    "\n",
    "                    content = \"\"\n",
    "                    for j in range(len(Lk[i])):\n",
    "                        content = content + Lk[i][j] + '+'\n",
    "                    content = content[:-1]\n",
    "                    L2_item[content] = num[i]\n",
    "                j += 1\n",
    "\n",
    "        return L, L2_item"
   ]
  },
  {
   "cell_type": "code",
   "execution_count": 6,
   "metadata": {},
   "outputs": [
    {
     "name": "stdout",
     "output_type": "stream",
     "text": [
      "[*] 所有的频繁项集：\n",
      "['US']\n",
      "['California']\n",
      "['price_2']\n",
      "['points_2']\n",
      "['price_1']\n",
      "['points_1']\n",
      "['California', 'US']\n",
      "['points_2', 'price_1']\n",
      "['US', 'points_2']\n",
      "['points_2', 'price_2']\n",
      "\n",
      "[*] 频繁1项集L1：\n",
      "6\n",
      "US : 40155\n",
      "California : 28683\n",
      "price_2 : 30286\n",
      "points_2 : 59310\n",
      "price_1 : 39176\n",
      "points_1 : 20198\n",
      "\n",
      "4\n",
      "[*] 频繁2项集L2：\n",
      "California+US : 28683\n",
      "points_2+price_1 : 24506\n",
      "US+points_2 : 23035\n",
      "points_2+price_2 : 21636\n"
     ]
    }
   ],
   "source": [
    "a = Apriori(dataDic=data_content)\n",
    "L1, L1_item = a.find_frequent_1_itemsets()\n",
    "result, L2_item = a.run()\n",
    "L2 = []\n",
    "\n",
    "\n",
    "print(\"[*] 所有的频繁项集：\")\n",
    "for r in result:\n",
    "    print(r)\n",
    "\n",
    "print()\n",
    "len_L1 = len(L1)\n",
    "print(\"[*] 频繁%d项集L%d：\" % (1, 1))\n",
    "print(len_L1)\n",
    "for item in L1_item.keys():\n",
    "    print(item, ':', L1_item[item])\n",
    "\n",
    "print()\n",
    "len_L2 = len(L2_item)\n",
    "print(len_L2)\n",
    "print(\"[*] 频繁%d项集L%d：\" % (2, 2))\n",
    "for item in L2_item.keys():\n",
    "    L2.append(item)\n",
    "    print(item, ':', L2_item[item])"
   ]
  },
  {
   "cell_type": "code",
   "execution_count": null,
   "metadata": {},
   "outputs": [],
   "source": []
  },
  {
   "cell_type": "markdown",
   "metadata": {},
   "source": [
    "导出关联规则，计算其支持度和置信度"
   ]
  },
  {
   "cell_type": "code",
   "execution_count": 7,
   "metadata": {},
   "outputs": [
    {
     "name": "stdout",
     "output_type": "stream",
     "text": [
      "\n",
      "Support of California+US : 0.3021839673827158\n",
      "Confidence of California+US : 1.0\n",
      "Support of points_2+price_1 : 0.2581780254743518\n",
      "Confidence of points_2+price_1 : 0.4131849603776766\n",
      "Support of US+points_2 : 0.24268060135483938\n",
      "Confidence of US+points_2 : 0.5736520981197858\n",
      "Support of points_2+price_2 : 0.22794171872860017\n",
      "Confidence of points_2+price_2 : 0.3647951441578149\n"
     ]
    }
   ],
   "source": [
    "# 对于frequent-2计算支持度和置信度\n",
    "print()\n",
    "support = []\n",
    "confidence = []\n",
    "for item in L2_item:\n",
    "    num = L2_item[item]\n",
    "    # 计算支持度\n",
    "    sup = num / total\n",
    "    support.append(sup)\n",
    "    print('Support of', item, ':', sup)\n",
    "\n",
    "    # 计算置信度\n",
    "    condition = item.split('+')[0]\n",
    "    condition_num = L1_item[condition]\n",
    "    conf = num / condition_num\n",
    "    confidence.append(conf)\n",
    "    print('Confidence of', item, ':', conf)"
   ]
  },
  {
   "cell_type": "code",
   "execution_count": null,
   "metadata": {},
   "outputs": [],
   "source": []
  },
  {
   "cell_type": "markdown",
   "metadata": {},
   "source": [
    "对规则进行评价，可使用Lift、卡方和其它教材中提及的指标, 至少2种\n",
    "\n",
    "这里使用Lift和Kulc两种方法进行评价"
   ]
  },
  {
   "cell_type": "code",
   "execution_count": 8,
   "metadata": {},
   "outputs": [
    {
     "name": "stdout",
     "output_type": "stream",
     "text": [
      "\n",
      "Lift of California+US : 2.363815216037853\n",
      "Lift of points_2+price_1 : 1.0011002464286471\n",
      "Lift of US+points_2 : 0.9180658152323713\n",
      "Lift of points_2+price_2 : 1.1433002142348156\n"
     ]
    }
   ],
   "source": [
    "# 使用Lift方法\n",
    "print()\n",
    "lift_score = []\n",
    "for item in L2_item:\n",
    "    num = L2_item[item]\n",
    "\n",
    "    its = item.split('+')\n",
    "    first = L1_item[its[0]]\n",
    "    second = L1_item[its[1]]\n",
    "    lift = (num / total) / ((first/total) * (second/total))\n",
    "    lift_score.append(lift)\n",
    "    print('Lift of', item, ':', lift)"
   ]
  },
  {
   "cell_type": "code",
   "execution_count": 9,
   "metadata": {},
   "outputs": [
    {
     "name": "stdout",
     "output_type": "stream",
     "text": [
      "\n",
      "Kulc of item : 0.857153530070975\n",
      "Kulc of item : 0.5193605014263307\n",
      "Kulc of item : 0.4810175850571952\n",
      "Kulc of item : 0.539592315524724\n"
     ]
    }
   ],
   "source": [
    "# 使用Kulc方法\n",
    "print()\n",
    "kulc_score = []\n",
    "for item in L2_item:\n",
    "    num = L2_item[item]\n",
    "\n",
    "    its = item.split('+')\n",
    "    first = L1_item[its[0]]\n",
    "    second = L1_item[its[1]]\n",
    "\n",
    "    first_pro = num / first\n",
    "    second_pro = num / second\n",
    "    kulc = (first_pro + second_pro) / 2\n",
    "    kulc_score.append(kulc)\n",
    "\n",
    "    print('Kulc of', 'item', ':', kulc)"
   ]
  },
  {
   "cell_type": "code",
   "execution_count": null,
   "metadata": {},
   "outputs": [],
   "source": []
  },
  {
   "cell_type": "markdown",
   "metadata": {},
   "source": [
    "对挖掘结果进行分析"
   ]
  },
  {
   "cell_type": "markdown",
   "metadata": {},
   "source": [
    "通过Apriori算法进行筛选和检测，设定阈值min_sup=0.2，这里没有设定太高，因为数据较为分散；同时频繁模式分析适用于标称属性，这里共有5个，同时还有两个数值属性，为了对数据进行分析完全，对数值属性进行离散化处理，根据其最大最小值和四分位数，将数据划分合理区间；\n",
    "因此对于数值属性points，分为4个区间，分别表示points_1, points_2, points_3, points_4，将这些标签作为标称属性，统计数值在这些区间内的值作为标称属性的频率；\n",
    "对于数值属性price，分为五个区间，其中前四个区间为合理区间，与points类似，而第五个区间——price_5为异常值区间，将不在合理区间内的值放到该区间内，最后将这五个区间作为标称属性；\n",
    "在这种情况下，满足要求的频繁模式共有10个，分别为：\n",
    "['US']\n",
    "['California']\n",
    "['price_2']\n",
    "['points_2']\n",
    "['price_1']\n",
    "['points_1']\n",
    "['California', 'US']\n",
    "['points_2', 'price_1']\n",
    "['US', 'points_2']\n",
    "['points_2', 'price_2']\n",
    "\n",
    "其中，1-items共有6个，其名称和频率分别为：\n",
    "US : 40155\n",
    "California : 28683\n",
    "price_2 : 30286\n",
    "points_2 : 59310\n",
    "price_1 : 39176\n",
    "points_1 : 20198\n",
    "\n",
    "2-items共有四个，其名称和频率分别为：\n",
    "California+US : 28683\n",
    "points_2+price_1 : 24506\n",
    "US+points_2 : 23035\n",
    "points_2+price_2 : 21636\n",
    "\n",
    "对2-items进行分析，首先计算期支持度和置信度，分别为：\n",
    "Support of California+US : 0.3021839673827158\n",
    "Confidence of California+US : 1.0\n",
    "Support of points_2+price_1 : 0.2581780254743518\n",
    "Confidence of points_2+price_1 : 0.4131849603776766\n",
    "Support of US+points_2 : 0.24268060135483938\n",
    "Confidence of US+points_2 : 0.5736520981197858\n",
    "Support of points_2+price_2 : 0.22794171872860017\n",
    "Confidence of points_2+price_2 : 0.3647951441578149\n",
    "\n",
    "这里对规则进行评价，分别采用Lift和Ku 两种方法，得到的结果分别为：\n",
    "使用Lift方法：\n",
    "Lift of California+US : 2.363815216037853\n",
    "Lift of points_2+price_1 : 1.0011002464286471\n",
    "Lift of US+points_2 : 0.9180658152323713\n",
    "Lift of points_2+price_2 : 1.1433002142348156\n",
    "使用Kulc方法：\n",
    "Kulc of item : 0.857153530070975\n",
    "Kulc of item : 0.5193605014263307\n",
    "Kulc of item : 0.4810175850571952\n",
    "Kulc of item : 0.539592315524724\n",
    "\n",
    "对这两种方法进行评价，通过结果可以看出，Kulc方法更加合理鲁棒，值限制在[0，1]区间内，对Null-Invariant Measures也更加适合；"
   ]
  },
  {
   "cell_type": "code",
   "execution_count": null,
   "metadata": {},
   "outputs": [],
   "source": []
  },
  {
   "cell_type": "markdown",
   "metadata": {},
   "source": [
    "可视化展示"
   ]
  },
  {
   "cell_type": "code",
   "execution_count": 10,
   "metadata": {},
   "outputs": [
    {
     "data": {
      "image/png": "[encoded data removed]",
      "text/plain": [
       "<Figure size 432x288 with 1 Axes>"
      ]
     },
     "metadata": {
      "needs_background": "light"
     },
     "output_type": "display_data"
    }
   ],
   "source": [
    "# 规则评价的结果折线图\n",
    "x = L2  # 点的横坐标\n",
    "k1 = lift_score # lift纵坐标\n",
    "k2 = kulc_score  # kulc的纵坐标\n",
    "plt.plot(x, k1, 's-', color = 'r', label=\"Lift\")  #s-:方形\n",
    "plt.plot(x, k2, 'o-', color = 'g', label=\"Kulc\")  #o-:圆形\n",
    "plt.xlabel(\"2-items\")  # 横坐标名字\n",
    "plt.ylabel(\"score\")  # 纵坐标名字\n",
    "plt.legend(loc=\"best\")  # 图例\n",
    "plt.title(\"Rule evaluation chart\")\n",
    "plt.show()"
   ]
  },
  {
   "cell_type": "code",
   "execution_count": 11,
   "metadata": {},
   "outputs": [
    {
     "data": {
      "image/png": "[encoded data removed]",
      "text/plain": [
       "<Figure size 432x288 with 1 Axes>"
      ]
     },
     "metadata": {
      "needs_background": "light"
     },
     "output_type": "display_data"
    }
   ],
   "source": [
    "# 支持度和置信度的结果折线图\n",
    "x = L2  # 点的横坐标\n",
    "k1 = support # 支持度的纵坐标\n",
    "k2 = confidence  # 置信度的纵坐标\n",
    "plt.plot(x, k1, 's-', color = 'b', label=\"support\")  #s-:方形\n",
    "plt.plot(x, k2, 'o-', color = 'y', label=\"confidence\")  #o-:圆形\n",
    "plt.xlabel(\"2-items\")  # 横坐标名字\n",
    "plt.ylabel(\"score\")  # 纵坐标名字\n",
    "plt.legend(loc=\"best\")  # 图例\n",
    "plt.title(\"support-confidence chart\")\n",
    "plt.show()"
   ]
  },
  {
   "cell_type": "code",
   "execution_count": null,
   "metadata": {},
   "outputs": [],
   "source": []
  },
  {
   "cell_type": "code",
   "execution_count": null,
   "metadata": {},
   "outputs": [],
   "source": []
  }
 ],
 "metadata": {
  "kernelspec": {
   "display_name": "Python 3",
   "language": "python",
   "name": "python3"
  },
  "language_info": {
   "codemirror_mode": {
    "name": "ipython",
    "version": 3
   },
   "file_extension": ".py",
   "mimetype": "text/x-python",
   "name": "python",
   "nbconvert_exporter": "python",
   "pygments_lexer": "ipython3",
   "version": "3.7.3"
  }
 },
 "nbformat": 4,
 "nbformat_minor": 2
}
